{
  "nbformat": 4,
  "nbformat_minor": 0,
  "metadata": {
    "colab": {
      "provenance": [],
      "gpuType": "T4",
      "toc_visible": true
    },
    "kernelspec": {
      "name": "python3",
      "display_name": "Python 3"
    },
    "language_info": {
      "name": "python"
    },
    "accelerator": "GPU"
  },
  "cells": [
    {
      "cell_type": "code",
      "execution_count": null,
      "metadata": {
        "id": "Ud9v_LTKa29O"
      },
      "outputs": [],
      "source": [
        "import torch\n",
        "import torch.nn as nn\n",
        "import torchvision\n",
        "import torchvision.transforms as transforms\n",
        "from torchvision.datasets import MNIST\n",
        "from torch.nn import functional as F\n",
        "from torch.utils.data import DataLoader\n",
        "\n",
        "\n",
        "import numpy as np\n",
        "import matplotlib.pyplot as plt\n",
        "import seaborn as sns"
      ]
    },
    {
      "cell_type": "code",
      "source": [
        "if torch.cuda.is_available():\n",
        " device = torch.device('cuda:0');\n",
        "else:\n",
        " device = torch.device('cpu');"
      ],
      "metadata": {
        "id": "oXw5YgmTe5bA"
      },
      "execution_count": null,
      "outputs": []
    },
    {
      "cell_type": "code",
      "source": [
        "data_transforms = transforms.Compose([transforms.ToTensor(), transforms.Normalize((0.5,), (0.5,))])"
      ],
      "metadata": {
        "id": "5c9aB4LsfJqF"
      },
      "execution_count": null,
      "outputs": []
    },
    {
      "cell_type": "code",
      "source": [
        "root = 'data'\n",
        "train_dataset = MNIST(root, train = True, transform = data_transforms, download = True)\n",
        "test_dataset = MNIST(root, train = False, transform = data_transforms, download = True)\n",
        "\n",
        "batch_size = 64\n",
        "train_dataloader = DataLoader(train_dataset, batch_size, shuffle = True)\n",
        "test_dataloader = DataLoader(test_dataset, batch_size, shuffle = False)"
      ],
      "metadata": {
        "colab": {
          "base_uri": "https://localhost:8080/"
        },
        "id": "h8BaeQi1fSBl",
        "outputId": "6445a553-bd63-4533-ce35-d3379cd476b7"
      },
      "execution_count": null,
      "outputs": [
        {
          "output_type": "stream",
          "name": "stdout",
          "text": [
            "Downloading http://yann.lecun.com/exdb/mnist/train-images-idx3-ubyte.gz\n",
            "Downloading http://yann.lecun.com/exdb/mnist/train-images-idx3-ubyte.gz to data/MNIST/raw/train-images-idx3-ubyte.gz\n"
          ]
        },
        {
          "output_type": "stream",
          "name": "stderr",
          "text": [
            "100%|██████████| 9912422/9912422 [00:00<00:00, 103230343.73it/s]\n"
          ]
        },
        {
          "output_type": "stream",
          "name": "stdout",
          "text": [
            "Extracting data/MNIST/raw/train-images-idx3-ubyte.gz to data/MNIST/raw\n",
            "\n",
            "Downloading http://yann.lecun.com/exdb/mnist/train-labels-idx1-ubyte.gz\n",
            "Downloading http://yann.lecun.com/exdb/mnist/train-labels-idx1-ubyte.gz to data/MNIST/raw/train-labels-idx1-ubyte.gz\n"
          ]
        },
        {
          "output_type": "stream",
          "name": "stderr",
          "text": [
            "100%|██████████| 28881/28881 [00:00<00:00, 102570443.54it/s]"
          ]
        },
        {
          "output_type": "stream",
          "name": "stdout",
          "text": [
            "Extracting data/MNIST/raw/train-labels-idx1-ubyte.gz to data/MNIST/raw\n",
            "\n",
            "Downloading http://yann.lecun.com/exdb/mnist/t10k-images-idx3-ubyte.gz\n",
            "Downloading http://yann.lecun.com/exdb/mnist/t10k-images-idx3-ubyte.gz to data/MNIST/raw/t10k-images-idx3-ubyte.gz\n"
          ]
        },
        {
          "output_type": "stream",
          "name": "stderr",
          "text": [
            "\n",
            "100%|██████████| 1648877/1648877 [00:00<00:00, 35561670.32it/s]\n"
          ]
        },
        {
          "output_type": "stream",
          "name": "stdout",
          "text": [
            "Extracting data/MNIST/raw/t10k-images-idx3-ubyte.gz to data/MNIST/raw\n",
            "\n",
            "Downloading http://yann.lecun.com/exdb/mnist/t10k-labels-idx1-ubyte.gz\n",
            "Downloading http://yann.lecun.com/exdb/mnist/t10k-labels-idx1-ubyte.gz to data/MNIST/raw/t10k-labels-idx1-ubyte.gz\n"
          ]
        },
        {
          "output_type": "stream",
          "name": "stderr",
          "text": [
            "100%|██████████| 4542/4542 [00:00<00:00, 22952444.30it/s]"
          ]
        },
        {
          "output_type": "stream",
          "name": "stdout",
          "text": [
            "Extracting data/MNIST/raw/t10k-labels-idx1-ubyte.gz to data/MNIST/raw\n",
            "\n"
          ]
        },
        {
          "output_type": "stream",
          "name": "stderr",
          "text": [
            "\n"
          ]
        }
      ]
    },
    {
      "cell_type": "code",
      "source": [
        "len(train_dataset)"
      ],
      "metadata": {
        "colab": {
          "base_uri": "https://localhost:8080/"
        },
        "id": "m__DEWghh5Jp",
        "outputId": "91d49b00-dbf2-447b-91b7-58e471795ffd"
      },
      "execution_count": null,
      "outputs": [
        {
          "output_type": "execute_result",
          "data": {
            "text/plain": [
              "60000"
            ]
          },
          "metadata": {},
          "execution_count": 5
        }
      ]
    },
    {
      "cell_type": "code",
      "source": [
        "len(test_dataset)"
      ],
      "metadata": {
        "colab": {
          "base_uri": "https://localhost:8080/"
        },
        "id": "GJv9T8USiB5R",
        "outputId": "b3b85be6-ced4-454b-dbeb-7ec9804ba460"
      },
      "execution_count": null,
      "outputs": [
        {
          "output_type": "execute_result",
          "data": {
            "text/plain": [
              "10000"
            ]
          },
          "metadata": {},
          "execution_count": 6
        }
      ]
    },
    {
      "cell_type": "code",
      "source": [
        "for images, labels in train_dataloader:\n",
        "    # Display one image\n",
        "    print(images[0].shape)\n",
        "    img = np.squeeze(images[0].numpy())  # Convert the torch tensor to a NumPy array and remove the singleton dimension\n",
        "    plt.imshow(img, cmap='gray')\n",
        "    plt.title(f'Label: {labels[0].item()}')\n",
        "    plt.show()\n",
        "\n",
        "    # Break the loop after displaying one image\n",
        "    break"
      ],
      "metadata": {
        "colab": {
          "base_uri": "https://localhost:8080/",
          "height": 470
        },
        "id": "5ab5fdT5iRam",
        "outputId": "8b87f76d-0e7f-4184-bff9-dc04d4333f7c"
      },
      "execution_count": null,
      "outputs": [
        {
          "output_type": "stream",
          "name": "stdout",
          "text": [
            "torch.Size([1, 28, 28])\n"
          ]
        },
        {
          "output_type": "display_data",
          "data": {
            "text/plain": [
              "<Figure size 640x480 with 1 Axes>"
            ],
            "image/png": "[encoded data removed]"
          },
          "metadata": {}
        }
      ]
    },
    {
      "cell_type": "code",
      "source": [
        "UsualModel = nn.Sequential(\n",
        "    nn.Flatten(),\n",
        "    nn.Linear(28*28, 128),\n",
        "    nn.ReLU(),\n",
        "    nn.Linear(128, 128),\n",
        "    nn.ReLU(),\n",
        "    nn.Linear(128, 10)\n",
        ")"
      ],
      "metadata": {
        "id": "THdMQTKYA-VC"
      },
      "execution_count": null,
      "outputs": []
    },
    {
      "cell_type": "code",
      "source": [
        "UsualModel"
      ],
      "metadata": {
        "colab": {
          "base_uri": "https://localhost:8080/"
        },
        "id": "XV5vICo8EOk5",
        "outputId": "319402f2-5872-4eb7-82d1-3638bc158e35"
      },
      "execution_count": null,
      "outputs": [
        {
          "output_type": "execute_result",
          "data": {
            "text/plain": [
              "Sequential(\n",
              "  (0): Flatten(start_dim=1, end_dim=-1)\n",
              "  (1): Linear(in_features=784, out_features=128, bias=True)\n",
              "  (2): ReLU()\n",
              "  (3): Linear(in_features=128, out_features=128, bias=True)\n",
              "  (4): ReLU()\n",
              "  (5): Linear(in_features=128, out_features=10, bias=True)\n",
              ")"
            ]
          },
          "metadata": {},
          "execution_count": 9
        }
      ]
    },
    {
      "cell_type": "code",
      "source": [
        "loaders = {'train' : train_dataloader, 'test' : test_dataloader}"
      ],
      "metadata": {
        "id": "VzEvCvB6FkI9"
      },
      "execution_count": null,
      "outputs": []
    },
    {
      "cell_type": "code",
      "source": [
        "criterion = nn.CrossEntropyLoss() #Loss Function\n",
        "optimizer = torch.optim.Adam(UsualModel.parameters())"
      ],
      "metadata": {
        "id": "XsahMV6OFGv2"
      },
      "execution_count": null,
      "outputs": []
    },
    {
      "cell_type": "code",
      "source": [
        "def fit(model, loaders, criterion, optimizer, epochs):\n",
        "  accuracy = {\"train\": [], \"valid\": []}\n",
        "  for epoch in range(epochs):\n",
        "    for phase, dataloader in loaders.items():\n",
        "      epoch_correct = 0\n",
        "      epoch_total = 0\n",
        "      for x_batch, y_batch in dataloader:\n",
        "        if phase == 'train':\n",
        "          model.train()\n",
        "          optimizer.zero_grad()\n",
        "          outp = model(x_batch)\n",
        "        else:\n",
        "          model.eval()\n",
        "          with torch.no_grad():\n",
        "            outp = model(x_batch)\n",
        "        preds = outp.argmax(-1)\n",
        "        correct = (preds == y_batch).sum()\n",
        "        all = len(y_batch)\n",
        "        epoch_correct += correct.item()\n",
        "        epoch_total += all\n",
        "        if phase == 'train':\n",
        "          loss = criterion(outp, y_batch)\n",
        "          loss.backward()\n",
        "          optimizer.step()\n",
        "      if phase == 'train':\n",
        "        print(f\"Epoch: {epoch+1}\")\n",
        "      print(f\"Loader: {phase}. Accuracy: {epoch_correct/epoch_total}\")\n",
        "      accuracy[phase].append(epoch_correct/epoch_total)\n",
        "\n",
        "\n"
      ],
      "metadata": {
        "id": "59mkeKv9Ee69"
      },
      "execution_count": null,
      "outputs": []
    },
    {
      "cell_type": "code",
      "source": [
        "fit(UsualModel, loaders, criterion, optimizer, 5)"
      ],
      "metadata": {
        "colab": {
          "base_uri": "https://localhost:8080/"
        },
        "id": "ivxNhcEoIdy5",
        "outputId": "f72d1b5a-b7b0-4b8f-d95a-2216f3187940"
      },
      "execution_count": null,
      "outputs": [
        {
          "output_type": "stream",
          "name": "stdout",
          "text": [
            "Epoch: 1\n",
            "Loader: train. Accuracy: 0.8916833333333334\n",
            "Epoch: 2\n",
            "Loader: train. Accuracy: 0.9478833333333333\n",
            "Epoch: 3\n",
            "Loader: train. Accuracy: 0.96115\n",
            "Epoch: 4\n",
            "Loader: train. Accuracy: 0.96835\n",
            "Epoch: 5\n",
            "Loader: train. Accuracy: 0.9729166666666667\n"
          ]
        }
      ]
    },
    {
      "cell_type": "code",
      "source": [
        "class ConvNet(nn.Module):\n",
        "     def __init__(self):\n",
        "        super(ConvNet, self).__init__()\n",
        "        self.conv1 = nn.Conv2d(1, 32, kernel_size=3, padding=1)\n",
        "        self.relu1 = nn.ReLU()\n",
        "        self.pool1 = nn.MaxPool2d(2, 2)\n",
        "        self.conv2 = nn.Conv2d(32, 64, kernel_size=3, padding=1)\n",
        "        self.relu2 = nn.ReLU()\n",
        "        self.pool2 = nn.MaxPool2d(2, 2)\n",
        "        self.flatten = nn.Flatten()\n",
        "        self.fc1 = nn.Linear(64 * 7 * 7, 128)\n",
        "        self.relu3 = nn.ReLU()\n",
        "        self.fc2 = nn.Linear(128, 10)\n",
        "     def forward(self, x):\n",
        "        x = self.conv1(x)\n",
        "        x = self.relu1(x)\n",
        "        x = self.pool1(x)\n",
        "        x = self.conv2(x)\n",
        "        x = self.relu2(x)\n",
        "        x = self.pool2(x)\n",
        "        x = self.flatten(x)\n",
        "        x = self.fc1(x)\n",
        "        x = self.relu3(x)\n",
        "        x = self.fc2(x)\n",
        "        return x\n"
      ],
      "metadata": {
        "id": "rhOJfqdSagrb"
      },
      "execution_count": null,
      "outputs": []
    },
    {
      "cell_type": "code",
      "source": [
        "model = ConvNet()"
      ],
      "metadata": {
        "id": "EyKjd9QKc2AK"
      },
      "execution_count": null,
      "outputs": []
    },
    {
      "cell_type": "code",
      "source": [
        "fit(ConvNet(), loaders, criterion, optimizer, 10)"
      ],
      "metadata": {
        "colab": {
          "base_uri": "https://localhost:8080/",
          "height": 361
        },
        "id": "m5KDknSxeMK_",
        "outputId": "c7045e2f-9c80-4938-a46f-b783c07adba0"
      },
      "execution_count": null,
      "outputs": [
        {
          "output_type": "stream",
          "name": "stdout",
          "text": [
            "Epoch: 1\n",
            "Loader: train. Accuracy: 0.09183333333333334\n",
            "Loader: test. Accuracy: 0.0884\n"
          ]
        },
        {
          "output_type": "error",
          "ename": "KeyError",
          "evalue": "ignored",
          "traceback": [
            "\u001b[0;31m---------------------------------------------------------------------------\u001b[0m",
            "\u001b[0;31mKeyError\u001b[0m                                  Traceback (most recent call last)",
            "\u001b[0;32m<ipython-input-23-a4e505075968>\u001b[0m in \u001b[0;36m<cell line: 1>\u001b[0;34m()\u001b[0m\n\u001b[0;32m----> 1\u001b[0;31m \u001b[0mfit\u001b[0m\u001b[0;34m(\u001b[0m\u001b[0mConvNet\u001b[0m\u001b[0;34m(\u001b[0m\u001b[0;34m)\u001b[0m\u001b[0;34m,\u001b[0m \u001b[0mloaders\u001b[0m\u001b[0;34m,\u001b[0m \u001b[0mcriterion\u001b[0m\u001b[0;34m,\u001b[0m \u001b[0moptimizer\u001b[0m\u001b[0;34m,\u001b[0m \u001b[0;36m10\u001b[0m\u001b[0;34m)\u001b[0m\u001b[0;34m\u001b[0m\u001b[0;34m\u001b[0m\u001b[0m\n\u001b[0m",
            "\u001b[0;32m<ipython-input-12-0b6823aedb6f>\u001b[0m in \u001b[0;36mfit\u001b[0;34m(model, loaders, criterion, optimizer, epochs)\u001b[0m\n\u001b[1;32m     26\u001b[0m         \u001b[0mprint\u001b[0m\u001b[0;34m(\u001b[0m\u001b[0;34mf\"Epoch: {epoch+1}\"\u001b[0m\u001b[0;34m)\u001b[0m\u001b[0;34m\u001b[0m\u001b[0;34m\u001b[0m\u001b[0m\n\u001b[1;32m     27\u001b[0m       \u001b[0mprint\u001b[0m\u001b[0;34m(\u001b[0m\u001b[0;34mf\"Loader: {phase}. Accuracy: {epoch_correct/epoch_total}\"\u001b[0m\u001b[0;34m)\u001b[0m\u001b[0;34m\u001b[0m\u001b[0;34m\u001b[0m\u001b[0m\n\u001b[0;32m---> 28\u001b[0;31m       \u001b[0maccuracy\u001b[0m\u001b[0;34m[\u001b[0m\u001b[0mphase\u001b[0m\u001b[0;34m]\u001b[0m\u001b[0;34m.\u001b[0m\u001b[0mappend\u001b[0m\u001b[0;34m(\u001b[0m\u001b[0mepoch_correct\u001b[0m\u001b[0;34m/\u001b[0m\u001b[0mepoch_total\u001b[0m\u001b[0;34m)\u001b[0m\u001b[0;34m\u001b[0m\u001b[0;34m\u001b[0m\u001b[0m\n\u001b[0m\u001b[1;32m     29\u001b[0m \u001b[0;34m\u001b[0m\u001b[0m\n\u001b[1;32m     30\u001b[0m \u001b[0;34m\u001b[0m\u001b[0m\n",
            "\u001b[0;31mKeyError\u001b[0m: 'test'"
          ]
        }
      ]
    },
    {
      "cell_type": "code",
      "source": [
        "epochs = 5\n",
        "for epoch in range(epochs):\n",
        "    running_loss = 0.0\n",
        "    for i, data in enumerate(train_dataloader, 0):\n",
        "        inputs, labels = data\n",
        "        optimizer.zero_grad()\n",
        "        outputs = model(inputs)\n",
        "        loss = criterion(outputs, labels)\n",
        "        loss.backward()\n",
        "        optimizer.step()\n",
        "        running_loss += loss.item()\n",
        "        if i % 100 == 99:  # Print every 100 mini-batches\n",
        "            print('[%d, %5d] loss: %.3f' %\n",
        "                  (epoch + 1, i + 1, running_loss / 100))\n",
        "            running_loss = 0.0"
      ],
      "metadata": {
        "id": "_4OgZGsSeNAX",
        "colab": {
          "base_uri": "https://localhost:8080/"
        },
        "outputId": "29fe0697-ba70-4ba1-8e14-f42568908469"
      },
      "execution_count": null,
      "outputs": [
        {
          "output_type": "stream",
          "name": "stdout",
          "text": [
            "[1,   100] loss: 2.304\n",
            "[1,   200] loss: 2.306\n",
            "[1,   300] loss: 2.305\n",
            "[1,   400] loss: 2.305\n",
            "[1,   500] loss: 2.305\n",
            "[1,   600] loss: 2.305\n",
            "[1,   700] loss: 2.305\n",
            "[1,   800] loss: 2.306\n",
            "[1,   900] loss: 2.307\n",
            "[2,   100] loss: 2.306\n",
            "[2,   200] loss: 2.305\n",
            "[2,   300] loss: 2.306\n",
            "[2,   400] loss: 2.304\n",
            "[2,   500] loss: 2.307\n",
            "[2,   600] loss: 2.304\n",
            "[2,   700] loss: 2.307\n",
            "[2,   800] loss: 2.306\n",
            "[2,   900] loss: 2.304\n",
            "[3,   100] loss: 2.305\n",
            "[3,   200] loss: 2.306\n",
            "[3,   300] loss: 2.307\n",
            "[3,   400] loss: 2.305\n",
            "[3,   500] loss: 2.306\n",
            "[3,   600] loss: 2.305\n",
            "[3,   700] loss: 2.304\n",
            "[3,   800] loss: 2.306\n",
            "[3,   900] loss: 2.306\n",
            "[4,   100] loss: 2.305\n",
            "[4,   200] loss: 2.306\n",
            "[4,   300] loss: 2.305\n",
            "[4,   400] loss: 2.306\n",
            "[4,   500] loss: 2.306\n",
            "[4,   600] loss: 2.305\n",
            "[4,   700] loss: 2.306\n",
            "[4,   800] loss: 2.306\n",
            "[4,   900] loss: 2.305\n",
            "[5,   100] loss: 2.305\n",
            "[5,   200] loss: 2.304\n",
            "[5,   300] loss: 2.306\n",
            "[5,   400] loss: 2.306\n",
            "[5,   500] loss: 2.305\n",
            "[5,   600] loss: 2.306\n",
            "[5,   700] loss: 2.305\n",
            "[5,   800] loss: 2.306\n",
            "[5,   900] loss: 2.305\n"
          ]
        }
      ]
    },
    {
      "cell_type": "code",
      "source": [],
      "metadata": {
        "id": "0x640M1tf2-x"
      },
      "execution_count": null,
      "outputs": []
    }
  ]
}