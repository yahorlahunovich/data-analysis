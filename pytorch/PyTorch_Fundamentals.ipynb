{
  "cells": [
    {
      "cell_type": "code",
      "execution_count": null,
      "id": "68ec5cb0",
      "metadata": {
        "id": "68ec5cb0"
      },
      "outputs": [],
      "source": [
        "import torch\n",
        "import pandas as pd\n",
        "import numpy as np\n",
        "import matplotlib.pyplot as plt"
      ]
    },
    {
      "cell_type": "code",
      "execution_count": null,
      "id": "33493588",
      "metadata": {
        "id": "33493588"
      },
      "outputs": [],
      "source": [
        "#scalar\n",
        "\n",
        "scalar = torch.tensor(7)"
      ]
    },
    {
      "cell_type": "code",
      "source": [
        "scalar"
      ],
      "metadata": {
        "colab": {
          "base_uri": "https://localhost:8080/"
        },
        "id": "A3FHa7A5CTix",
        "outputId": "b16161b8-9761-4bf1-c3d8-bc318b991b70"
      },
      "id": "A3FHa7A5CTix",
      "execution_count": null,
      "outputs": [
        {
          "output_type": "execute_result",
          "data": {
            "text/plain": [
              "tensor(7)"
            ]
          },
          "metadata": {},
          "execution_count": 3
        }
      ]
    },
    {
      "cell_type": "code",
      "source": [],
      "metadata": {
        "id": "2E3Cb-Q2C3FO"
      },
      "id": "2E3Cb-Q2C3FO",
      "execution_count": null,
      "outputs": []
    },
    {
      "cell_type": "code",
      "source": [
        "scalar.ndim"
      ],
      "metadata": {
        "colab": {
          "base_uri": "https://localhost:8080/"
        },
        "id": "WTnCiD3CCZaw",
        "outputId": "e4035c38-de83-4ffa-f5f4-0a770f9f1af6"
      },
      "id": "WTnCiD3CCZaw",
      "execution_count": null,
      "outputs": [
        {
          "output_type": "execute_result",
          "data": {
            "text/plain": [
              "0"
            ]
          },
          "metadata": {},
          "execution_count": 4
        }
      ]
    },
    {
      "cell_type": "code",
      "source": [
        "scalar.item()"
      ],
      "metadata": {
        "colab": {
          "base_uri": "https://localhost:8080/"
        },
        "id": "oVGu3IvGC2gk",
        "outputId": "d1e7dc2d-991e-43b1-f5d4-1de2acf2a949"
      },
      "id": "oVGu3IvGC2gk",
      "execution_count": null,
      "outputs": [
        {
          "output_type": "execute_result",
          "data": {
            "text/plain": [
              "7"
            ]
          },
          "metadata": {},
          "execution_count": 5
        }
      ]
    },
    {
      "cell_type": "code",
      "source": [
        "#Vector\n",
        "\n",
        "vector = torch.tensor([7, 7])"
      ],
      "metadata": {
        "id": "2sCswTYYC74g"
      },
      "id": "2sCswTYYC74g",
      "execution_count": null,
      "outputs": []
    },
    {
      "cell_type": "code",
      "source": [
        "vector"
      ],
      "metadata": {
        "colab": {
          "base_uri": "https://localhost:8080/"
        },
        "id": "gfJDUejGDDK7",
        "outputId": "bf35cf1f-1301-46ee-a504-b5a6eebbce64"
      },
      "id": "gfJDUejGDDK7",
      "execution_count": null,
      "outputs": [
        {
          "output_type": "execute_result",
          "data": {
            "text/plain": [
              "tensor([7, 7])"
            ]
          },
          "metadata": {},
          "execution_count": 7
        }
      ]
    },
    {
      "cell_type": "code",
      "source": [
        "vector.ndim"
      ],
      "metadata": {
        "colab": {
          "base_uri": "https://localhost:8080/"
        },
        "id": "f_HJSZ5LDJ3D",
        "outputId": "b4b1f6f1-1b60-42ec-c382-16f3a6e85d30"
      },
      "id": "f_HJSZ5LDJ3D",
      "execution_count": null,
      "outputs": [
        {
          "output_type": "execute_result",
          "data": {
            "text/plain": [
              "1"
            ]
          },
          "metadata": {},
          "execution_count": 8
        }
      ]
    },
    {
      "cell_type": "code",
      "source": [
        "vector.shape"
      ],
      "metadata": {
        "colab": {
          "base_uri": "https://localhost:8080/"
        },
        "id": "Jr7aZRmfDLOR",
        "outputId": "9b70ef61-f2f1-4ded-e50b-2db1df987a2d"
      },
      "id": "Jr7aZRmfDLOR",
      "execution_count": null,
      "outputs": [
        {
          "output_type": "execute_result",
          "data": {
            "text/plain": [
              "torch.Size([2])"
            ]
          },
          "metadata": {},
          "execution_count": 9
        }
      ]
    },
    {
      "cell_type": "code",
      "source": [
        "#Matrix\n",
        "\n",
        "MATRIX = torch.tensor([[7, 2], [2,3], [3, 2]])"
      ],
      "metadata": {
        "id": "cywCoLhtDRH8"
      },
      "id": "cywCoLhtDRH8",
      "execution_count": null,
      "outputs": []
    },
    {
      "cell_type": "code",
      "source": [
        "MATRIX"
      ],
      "metadata": {
        "colab": {
          "base_uri": "https://localhost:8080/"
        },
        "id": "TAny-OXIDc8y",
        "outputId": "44738e89-9d81-4b0c-a785-6b89e08f3cb5"
      },
      "id": "TAny-OXIDc8y",
      "execution_count": null,
      "outputs": [
        {
          "output_type": "execute_result",
          "data": {
            "text/plain": [
              "tensor([[7, 2],\n",
              "        [2, 3],\n",
              "        [3, 2]])"
            ]
          },
          "metadata": {},
          "execution_count": 11
        }
      ]
    },
    {
      "cell_type": "code",
      "source": [
        "MATRIX.ndim"
      ],
      "metadata": {
        "colab": {
          "base_uri": "https://localhost:8080/"
        },
        "id": "A05eCTM1DdpG",
        "outputId": "2730c1ec-da02-4bac-cd08-07279b4812be"
      },
      "id": "A05eCTM1DdpG",
      "execution_count": null,
      "outputs": [
        {
          "output_type": "execute_result",
          "data": {
            "text/plain": [
              "2"
            ]
          },
          "metadata": {},
          "execution_count": 12
        }
      ]
    },
    {
      "cell_type": "code",
      "source": [
        "MATRIX[1]"
      ],
      "metadata": {
        "colab": {
          "base_uri": "https://localhost:8080/"
        },
        "id": "-rzdEmc5Dfuz",
        "outputId": "447a53ef-ae84-44ac-b22a-aed442114c25"
      },
      "id": "-rzdEmc5Dfuz",
      "execution_count": null,
      "outputs": [
        {
          "output_type": "execute_result",
          "data": {
            "text/plain": [
              "tensor([2, 3])"
            ]
          },
          "metadata": {},
          "execution_count": 13
        }
      ]
    },
    {
      "cell_type": "code",
      "source": [
        "MATRIX.shape"
      ],
      "metadata": {
        "colab": {
          "base_uri": "https://localhost:8080/"
        },
        "id": "DzD3TW2eDoUc",
        "outputId": "9428236d-ab4e-49d7-c5f2-abb5d6b07e53"
      },
      "id": "DzD3TW2eDoUc",
      "execution_count": null,
      "outputs": [
        {
          "output_type": "execute_result",
          "data": {
            "text/plain": [
              "torch.Size([3, 2])"
            ]
          },
          "metadata": {},
          "execution_count": 14
        }
      ]
    },
    {
      "cell_type": "code",
      "source": [
        "#TENSOR\n",
        "\n",
        "TENSOR = torch.tensor([[[2, 3, 4], [1, 2, 3], [4, 5, 6]]])"
      ],
      "metadata": {
        "id": "z0oqziEcDspF"
      },
      "id": "z0oqziEcDspF",
      "execution_count": null,
      "outputs": []
    },
    {
      "cell_type": "code",
      "source": [
        "TENSOR"
      ],
      "metadata": {
        "colab": {
          "base_uri": "https://localhost:8080/"
        },
        "id": "C4wKBJJbD65b",
        "outputId": "ef6ba39f-cf62-488f-8b10-1020fcea5901"
      },
      "id": "C4wKBJJbD65b",
      "execution_count": null,
      "outputs": [
        {
          "output_type": "execute_result",
          "data": {
            "text/plain": [
              "tensor([[[2, 3, 4],\n",
              "         [1, 2, 3],\n",
              "         [4, 5, 6]]])"
            ]
          },
          "metadata": {},
          "execution_count": 16
        }
      ]
    },
    {
      "cell_type": "code",
      "source": [
        "TENSOR.ndim"
      ],
      "metadata": {
        "colab": {
          "base_uri": "https://localhost:8080/"
        },
        "id": "yWbZflk5D7qu",
        "outputId": "14d53c7a-e625-40eb-dcec-65ec779a00e9"
      },
      "id": "yWbZflk5D7qu",
      "execution_count": null,
      "outputs": [
        {
          "output_type": "execute_result",
          "data": {
            "text/plain": [
              "3"
            ]
          },
          "metadata": {},
          "execution_count": 17
        }
      ]
    },
    {
      "cell_type": "code",
      "source": [
        "TENSOR1 = torch.tensor([[[[2], [2], [3]]]])"
      ],
      "metadata": {
        "id": "-VXGIIm0D_6E"
      },
      "id": "-VXGIIm0D_6E",
      "execution_count": null,
      "outputs": []
    },
    {
      "cell_type": "code",
      "source": [],
      "metadata": {
        "id": "yfu2g7_FEqrC"
      },
      "id": "yfu2g7_FEqrC",
      "execution_count": null,
      "outputs": []
    },
    {
      "cell_type": "markdown",
      "source": [],
      "metadata": {
        "id": "TBKd-7XGEsLG"
      },
      "id": "TBKd-7XGEsLG"
    },
    {
      "cell_type": "code",
      "source": [],
      "metadata": {
        "id": "YRswzXSFEqV9"
      },
      "id": "YRswzXSFEqV9",
      "execution_count": null,
      "outputs": []
    },
    {
      "cell_type": "code",
      "source": [
        "TENSOR1.ndim"
      ],
      "metadata": {
        "colab": {
          "base_uri": "https://localhost:8080/"
        },
        "id": "MKGOlkjWEiSA",
        "outputId": "11fe67d6-d331-4f66-c552-77cb9a31b8bf"
      },
      "id": "MKGOlkjWEiSA",
      "execution_count": null,
      "outputs": [
        {
          "output_type": "execute_result",
          "data": {
            "text/plain": [
              "4"
            ]
          },
          "metadata": {},
          "execution_count": 19
        }
      ]
    },
    {
      "cell_type": "code",
      "source": [
        "TENSOR1.shape"
      ],
      "metadata": {
        "colab": {
          "base_uri": "https://localhost:8080/"
        },
        "id": "Bn-waqHKEng7",
        "outputId": "f86d1654-41ca-440a-fa0e-59f984439f04"
      },
      "id": "Bn-waqHKEng7",
      "execution_count": null,
      "outputs": [
        {
          "output_type": "execute_result",
          "data": {
            "text/plain": [
              "torch.Size([1, 1, 3, 1])"
            ]
          },
          "metadata": {},
          "execution_count": 20
        }
      ]
    },
    {
      "cell_type": "code",
      "source": [
        "#Random tensors\n",
        "\n",
        "random_tensor = torch.rand(3, 4)"
      ],
      "metadata": {
        "id": "ANrv-zMMEo9g"
      },
      "id": "ANrv-zMMEo9g",
      "execution_count": null,
      "outputs": []
    },
    {
      "cell_type": "code",
      "source": [
        "random_tensor"
      ],
      "metadata": {
        "colab": {
          "base_uri": "https://localhost:8080/"
        },
        "id": "tAA2NDN8Foih",
        "outputId": "bc5afaf8-7c86-45ee-d74b-42204128db21"
      },
      "id": "tAA2NDN8Foih",
      "execution_count": null,
      "outputs": [
        {
          "output_type": "execute_result",
          "data": {
            "text/plain": [
              "tensor([[0.9055, 0.6423, 0.5432, 0.8469],\n",
              "        [0.0748, 0.2957, 0.5270, 0.4526],\n",
              "        [0.0640, 0.7849, 0.7076, 0.4917]])"
            ]
          },
          "metadata": {},
          "execution_count": 22
        }
      ]
    },
    {
      "cell_type": "code",
      "source": [
        "random_image_size_tensor = torch.rand(size=(224, 224, 3)) #height, width, colour channels(r, g, b)"
      ],
      "metadata": {
        "id": "cb64B0OfFpgd"
      },
      "id": "cb64B0OfFpgd",
      "execution_count": null,
      "outputs": []
    },
    {
      "cell_type": "code",
      "source": [
        "random_image_size_tensor"
      ],
      "metadata": {
        "colab": {
          "base_uri": "https://localhost:8080/"
        },
        "id": "8_XGr-fEGMLe",
        "outputId": "122623f5-9b3c-4b79-9d86-2118fc57bc76"
      },
      "id": "8_XGr-fEGMLe",
      "execution_count": null,
      "outputs": [
        {
          "output_type": "execute_result",
          "data": {
            "text/plain": [
              "tensor([[[0.9788, 0.1883, 0.9871],\n",
              "         [0.1498, 0.1726, 0.4854],\n",
              "         [0.1459, 0.8923, 0.1693],\n",
              "         ...,\n",
              "         [0.0879, 0.7753, 0.2065],\n",
              "         [0.8577, 0.1824, 0.0759],\n",
              "         [0.1335, 0.9170, 0.4170]],\n",
              "\n",
              "        [[0.1939, 0.5382, 0.3706],\n",
              "         [0.2106, 0.1525, 0.0435],\n",
              "         [0.5495, 0.6223, 0.9751],\n",
              "         ...,\n",
              "         [0.7172, 0.7950, 0.7906],\n",
              "         [0.2062, 0.1957, 0.6563],\n",
              "         [0.0482, 0.0223, 0.4933]],\n",
              "\n",
              "        [[0.2939, 0.3712, 0.2338],\n",
              "         [0.2339, 0.5021, 0.6544],\n",
              "         [0.4092, 0.4027, 0.4901],\n",
              "         ...,\n",
              "         [0.4522, 0.6698, 0.5196],\n",
              "         [0.4974, 0.1205, 0.0442],\n",
              "         [0.4313, 0.6628, 0.5165]],\n",
              "\n",
              "        ...,\n",
              "\n",
              "        [[0.1499, 0.4144, 0.4131],\n",
              "         [0.8797, 0.2756, 0.4776],\n",
              "         [0.6236, 0.4010, 0.4101],\n",
              "         ...,\n",
              "         [0.3981, 0.5134, 0.8542],\n",
              "         [0.6775, 0.7712, 0.5250],\n",
              "         [0.1767, 0.3258, 0.5894]],\n",
              "\n",
              "        [[0.5473, 0.8855, 0.8498],\n",
              "         [0.8521, 0.0949, 0.9203],\n",
              "         [0.6025, 0.5427, 0.2944],\n",
              "         ...,\n",
              "         [0.0931, 0.1434, 0.6308],\n",
              "         [0.4989, 0.6556, 0.7529],\n",
              "         [0.6868, 0.0371, 0.2510]],\n",
              "\n",
              "        [[0.2722, 0.1970, 0.3167],\n",
              "         [0.9571, 0.8899, 0.9565],\n",
              "         [0.2414, 0.1641, 0.4719],\n",
              "         ...,\n",
              "         [0.7045, 0.9973, 0.6239],\n",
              "         [0.0782, 0.5025, 0.1064],\n",
              "         [0.0977, 0.9001, 0.9311]]])"
            ]
          },
          "metadata": {},
          "execution_count": 24
        }
      ]
    },
    {
      "cell_type": "code",
      "source": [
        "zeros = torch.zeros(3, 2)"
      ],
      "metadata": {
        "id": "imxjAsmgGOEO"
      },
      "id": "imxjAsmgGOEO",
      "execution_count": null,
      "outputs": []
    },
    {
      "cell_type": "code",
      "source": [
        "zeros"
      ],
      "metadata": {
        "colab": {
          "base_uri": "https://localhost:8080/"
        },
        "id": "u5fL3HDuHC91",
        "outputId": "e62ff100-d915-4541-d5b3-9aab63f698b7"
      },
      "id": "u5fL3HDuHC91",
      "execution_count": null,
      "outputs": [
        {
          "output_type": "execute_result",
          "data": {
            "text/plain": [
              "tensor([[0., 0.],\n",
              "        [0., 0.],\n",
              "        [0., 0.]])"
            ]
          },
          "metadata": {},
          "execution_count": 26
        }
      ]
    },
    {
      "cell_type": "code",
      "source": [
        "ones = torch.ones(1, 5)"
      ],
      "metadata": {
        "id": "_A9burJPHDwT"
      },
      "id": "_A9burJPHDwT",
      "execution_count": null,
      "outputs": []
    },
    {
      "cell_type": "code",
      "source": [
        "ones"
      ],
      "metadata": {
        "colab": {
          "base_uri": "https://localhost:8080/"
        },
        "id": "b4uxq-KIHGXH",
        "outputId": "ee4beed4-5d7c-42c5-f77f-1753e9ba96b4"
      },
      "id": "b4uxq-KIHGXH",
      "execution_count": null,
      "outputs": [
        {
          "output_type": "execute_result",
          "data": {
            "text/plain": [
              "tensor([[1., 1., 1., 1., 1.]])"
            ]
          },
          "metadata": {},
          "execution_count": 28
        }
      ]
    },
    {
      "cell_type": "code",
      "source": [
        "to_ten = torch.arange(1, 10)"
      ],
      "metadata": {
        "id": "OzeoE3W6HHLL"
      },
      "id": "OzeoE3W6HHLL",
      "execution_count": null,
      "outputs": []
    },
    {
      "cell_type": "code",
      "source": [
        "ten_zeros = torch.zeros_like(to_ten) #Similiar shape"
      ],
      "metadata": {
        "id": "0CXhRNF7Hh3K"
      },
      "id": "0CXhRNF7Hh3K",
      "execution_count": null,
      "outputs": []
    },
    {
      "cell_type": "code",
      "source": [
        "ten_zeros"
      ],
      "metadata": {
        "colab": {
          "base_uri": "https://localhost:8080/"
        },
        "id": "KMtUY-A5IE95",
        "outputId": "f6b434cd-bf0f-44fe-fe58-0d53a78d6c21"
      },
      "id": "KMtUY-A5IE95",
      "execution_count": null,
      "outputs": [
        {
          "output_type": "execute_result",
          "data": {
            "text/plain": [
              "tensor([0, 0, 0, 0, 0, 0, 0, 0, 0])"
            ]
          },
          "metadata": {},
          "execution_count": 31
        }
      ]
    },
    {
      "cell_type": "code",
      "source": [
        "# Manipulating Tensors\n",
        "tensor = torch.tensor([1,2,3])"
      ],
      "metadata": {
        "id": "vgkBSzcsIF5E"
      },
      "id": "vgkBSzcsIF5E",
      "execution_count": null,
      "outputs": []
    },
    {
      "cell_type": "code",
      "source": [
        "tensor + 10"
      ],
      "metadata": {
        "colab": {
          "base_uri": "https://localhost:8080/"
        },
        "id": "Wv9l1UW2Otdb",
        "outputId": "ed1f4676-43e6-4871-fcae-82acd6464ea0"
      },
      "id": "Wv9l1UW2Otdb",
      "execution_count": null,
      "outputs": [
        {
          "output_type": "execute_result",
          "data": {
            "text/plain": [
              "tensor([11, 12, 13])"
            ]
          },
          "metadata": {},
          "execution_count": 33
        }
      ]
    },
    {
      "cell_type": "code",
      "source": [
        "tensor *22"
      ],
      "metadata": {
        "colab": {
          "base_uri": "https://localhost:8080/"
        },
        "id": "Go0oPO2JOutc",
        "outputId": "9a036db0-18f5-4118-d108-5e5d87136f82"
      },
      "id": "Go0oPO2JOutc",
      "execution_count": null,
      "outputs": [
        {
          "output_type": "execute_result",
          "data": {
            "text/plain": [
              "tensor([22, 44, 66])"
            ]
          },
          "metadata": {},
          "execution_count": 34
        }
      ]
    },
    {
      "cell_type": "code",
      "source": [
        "tensor-1"
      ],
      "metadata": {
        "colab": {
          "base_uri": "https://localhost:8080/"
        },
        "id": "qWpOyzk3Ovyl",
        "outputId": "9f4fc0ca-470e-4db1-ebaf-14555faf6941"
      },
      "id": "qWpOyzk3Ovyl",
      "execution_count": null,
      "outputs": [
        {
          "output_type": "execute_result",
          "data": {
            "text/plain": [
              "tensor([0, 1, 2])"
            ]
          },
          "metadata": {},
          "execution_count": 35
        }
      ]
    },
    {
      "cell_type": "code",
      "source": [
        "torch.mul(tensor, 10)"
      ],
      "metadata": {
        "colab": {
          "base_uri": "https://localhost:8080/"
        },
        "id": "biQSmFLMO08w",
        "outputId": "e7e75657-751f-41e6-9e85-87c91e93ee74"
      },
      "id": "biQSmFLMO08w",
      "execution_count": null,
      "outputs": [
        {
          "output_type": "execute_result",
          "data": {
            "text/plain": [
              "tensor([10, 20, 30])"
            ]
          },
          "metadata": {},
          "execution_count": 36
        }
      ]
    },
    {
      "cell_type": "code",
      "source": [
        "  # Matrix multiplication\n",
        "tensor * tensor\n"
      ],
      "metadata": {
        "colab": {
          "base_uri": "https://localhost:8080/"
        },
        "id": "abi53xb_O7hh",
        "outputId": "24a8e833-f934-4223-953d-c090312f09e2"
      },
      "id": "abi53xb_O7hh",
      "execution_count": null,
      "outputs": [
        {
          "output_type": "execute_result",
          "data": {
            "text/plain": [
              "tensor([1, 4, 9])"
            ]
          },
          "metadata": {},
          "execution_count": 37
        }
      ]
    },
    {
      "cell_type": "code",
      "source": [
        "tensor * torch.tensor([22, 143, 22])"
      ],
      "metadata": {
        "colab": {
          "base_uri": "https://localhost:8080/"
        },
        "id": "sAqcd6ZWPy3E",
        "outputId": "10aa8d74-69bb-4ecb-df8f-f29b2776911e"
      },
      "id": "sAqcd6ZWPy3E",
      "execution_count": null,
      "outputs": [
        {
          "output_type": "execute_result",
          "data": {
            "text/plain": [
              "tensor([ 22, 286,  66])"
            ]
          },
          "metadata": {},
          "execution_count": 38
        }
      ]
    },
    {
      "cell_type": "code",
      "source": [
        "torch.tensor([[1,2,3], [4, 5, 6]]) * torch.tensor([[3, 2, 11], [3, 6, 5]])"
      ],
      "metadata": {
        "colab": {
          "base_uri": "https://localhost:8080/"
        },
        "id": "RlPJNNm0P1oT",
        "outputId": "3ec3a209-37da-463c-e03f-698c358d1e18"
      },
      "id": "RlPJNNm0P1oT",
      "execution_count": null,
      "outputs": [
        {
          "output_type": "execute_result",
          "data": {
            "text/plain": [
              "tensor([[ 3,  4, 33],\n",
              "        [12, 30, 30]])"
            ]
          },
          "metadata": {},
          "execution_count": 39
        }
      ]
    },
    {
      "cell_type": "code",
      "source": [
        "# tensor.matmul() - very fast matrix mult method"
      ],
      "metadata": {
        "id": "cn95qNh4QPcx"
      },
      "id": "cn95qNh4QPcx",
      "execution_count": null,
      "outputs": []
    },
    {
      "cell_type": "code",
      "source": [
        "# Transpose\n",
        "\n",
        "random_tensor.t()"
      ],
      "metadata": {
        "colab": {
          "base_uri": "https://localhost:8080/"
        },
        "id": "yJNOy8cHQEuk",
        "outputId": "5da58af2-2458-4039-ac35-7681907cf56a"
      },
      "id": "yJNOy8cHQEuk",
      "execution_count": null,
      "outputs": [
        {
          "output_type": "execute_result",
          "data": {
            "text/plain": [
              "tensor([[0.9055, 0.0748, 0.0640],\n",
              "        [0.6423, 0.2957, 0.7849],\n",
              "        [0.5432, 0.5270, 0.7076],\n",
              "        [0.8469, 0.4526, 0.4917]])"
            ]
          },
          "metadata": {},
          "execution_count": 41
        }
      ]
    },
    {
      "cell_type": "code",
      "source": [
        "#\n",
        "\n",
        "torch.max(random_tensor)"
      ],
      "metadata": {
        "colab": {
          "base_uri": "https://localhost:8080/"
        },
        "id": "bOu0wVESTIYu",
        "outputId": "0e0e2bb9-8381-46d8-fac3-15d4f77728bf"
      },
      "id": "bOu0wVESTIYu",
      "execution_count": null,
      "outputs": [
        {
          "output_type": "execute_result",
          "data": {
            "text/plain": [
              "tensor(0.9055)"
            ]
          },
          "metadata": {},
          "execution_count": 42
        }
      ]
    },
    {
      "cell_type": "code",
      "source": [
        "torch.min(random_tensor)"
      ],
      "metadata": {
        "colab": {
          "base_uri": "https://localhost:8080/"
        },
        "id": "Xd3j-kJoIAwo",
        "outputId": "20328676-d037-4e35-f3cb-9700189cd5d6"
      },
      "id": "Xd3j-kJoIAwo",
      "execution_count": null,
      "outputs": [
        {
          "output_type": "execute_result",
          "data": {
            "text/plain": [
              "tensor(0.0640)"
            ]
          },
          "metadata": {},
          "execution_count": 43
        }
      ]
    },
    {
      "cell_type": "markdown",
      "source": [],
      "metadata": {
        "id": "fJhRliulIPya"
      },
      "id": "fJhRliulIPya"
    },
    {
      "cell_type": "code",
      "source": [
        "torch.mean(random_tensor)"
      ],
      "metadata": {
        "colab": {
          "base_uri": "https://localhost:8080/"
        },
        "id": "cEFh5i4NICqy",
        "outputId": "d1ce2505-8c29-462a-ba19-e0eea2f6a643"
      },
      "id": "cEFh5i4NICqy",
      "execution_count": null,
      "outputs": [
        {
          "output_type": "execute_result",
          "data": {
            "text/plain": [
              "tensor(0.5280)"
            ]
          },
          "metadata": {},
          "execution_count": 44
        }
      ]
    },
    {
      "cell_type": "code",
      "source": [
        "torch.sum(random_tensor)"
      ],
      "metadata": {
        "colab": {
          "base_uri": "https://localhost:8080/"
        },
        "id": "boJwfXFFIEb7",
        "outputId": "acaa23e0-00c9-451b-eed6-2147f5de218d"
      },
      "id": "boJwfXFFIEb7",
      "execution_count": null,
      "outputs": [
        {
          "output_type": "execute_result",
          "data": {
            "text/plain": [
              "tensor(6.3363)"
            ]
          },
          "metadata": {},
          "execution_count": 45
        }
      ]
    },
    {
      "cell_type": "code",
      "source": [
        "random_tensor.argmin()"
      ],
      "metadata": {
        "colab": {
          "base_uri": "https://localhost:8080/"
        },
        "id": "a7JEAEZpIPVv",
        "outputId": "5f65812f-1e4b-45f9-e6d2-0a5dad8128b4"
      },
      "id": "a7JEAEZpIPVv",
      "execution_count": null,
      "outputs": [
        {
          "output_type": "execute_result",
          "data": {
            "text/plain": [
              "tensor(8)"
            ]
          },
          "metadata": {},
          "execution_count": 46
        }
      ]
    },
    {
      "cell_type": "code",
      "source": [
        "random_tensor.argmax()"
      ],
      "metadata": {
        "colab": {
          "base_uri": "https://localhost:8080/"
        },
        "id": "MtSchPtjItl3",
        "outputId": "337276e6-530e-4bf2-dff2-04a2bea8e5ee"
      },
      "id": "MtSchPtjItl3",
      "execution_count": null,
      "outputs": [
        {
          "output_type": "execute_result",
          "data": {
            "text/plain": [
              "tensor(0)"
            ]
          },
          "metadata": {},
          "execution_count": 47
        }
      ]
    },
    {
      "cell_type": "code",
      "source": [
        "# x.reshape() x.view() torch.stack()"
      ],
      "metadata": {
        "id": "D91nDQjUIwVz"
      },
      "id": "D91nDQjUIwVz",
      "execution_count": null,
      "outputs": []
    },
    {
      "cell_type": "code",
      "source": [
        "# torch.squeeze() - remove all single dimensions\n",
        "# torch.unsqueeze() - adds a single dimension to a targer tensor at a specific dimension"
      ],
      "metadata": {
        "id": "YWhsCWQnK7l6"
      },
      "id": "YWhsCWQnK7l6",
      "execution_count": null,
      "outputs": []
    },
    {
      "cell_type": "code",
      "source": [
        "# torch.permute - rearranges the dimensions of a target tensor in a specified order"
      ],
      "metadata": {
        "id": "MfkO2BisLyip"
      },
      "id": "MfkO2BisLyip",
      "execution_count": null,
      "outputs": []
    },
    {
      "cell_type": "code",
      "source": [
        "!nvidia-smi"
      ],
      "metadata": {
        "id": "gmOFoeodMPN8",
        "colab": {
          "base_uri": "https://localhost:8080/"
        },
        "outputId": "7c867b22-0dcc-404e-e1b3-7d69b94fe4f5"
      },
      "id": "gmOFoeodMPN8",
      "execution_count": null,
      "outputs": [
        {
          "output_type": "stream",
          "name": "stdout",
          "text": [
            "/bin/bash: line 1: nvidia-smi: command not found\n"
          ]
        }
      ]
    },
    {
      "cell_type": "code",
      "source": [
        "# torch.tensor([1,2,3], device='cuda')"
      ],
      "metadata": {
        "id": "uH83fIaB6IWy"
      },
      "id": "uH83fIaB6IWy",
      "execution_count": null,
      "outputs": []
    },
    {
      "cell_type": "markdown",
      "source": [],
      "metadata": {
        "id": "2Nsjh0UV64ac"
      },
      "id": "2Nsjh0UV64ac"
    },
    {
      "cell_type": "code",
      "source": [],
      "metadata": {
        "id": "NE7HKQow6y88"
      },
      "id": "NE7HKQow6y88",
      "execution_count": null,
      "outputs": []
    }
  ],
  "metadata": {
    "kernelspec": {
      "display_name": "Python 3",
      "name": "python3"
    },
    "language_info": {
      "codemirror_mode": {
        "name": "ipython",
        "version": 3
      },
      "file_extension": ".py",
      "mimetype": "text/x-python",
      "name": "python",
      "nbconvert_exporter": "python",
      "pygments_lexer": "ipython3",
      "version": "3.9.12"
    },
    "colab": {
      "provenance": [],
      "gpuType": "T4"
    }
  },
  "nbformat": 4,
  "nbformat_minor": 5
}